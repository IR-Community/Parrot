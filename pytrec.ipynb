{
 "cells": [
  {
   "cell_type": "code",
   "execution_count": 1,
   "metadata": {},
   "outputs": [],
   "source": [
    "import os,sys\n",
    "module_path = os.path.abspath(os.path.join('/Users/tu/Desktop/trec/PyTrec/venv/src'))\n",
    "sys.path.append(module_path)\n",
    "from pytrec import *"
   ]
  },
  {
   "cell_type": "code",
   "execution_count": null,
   "metadata": {},
   "outputs": [],
   "source": [
    "base = \"/Users/tu/Desktop/trec/\"\n",
    "\n",
    "dataset = DataSet(\n",
    "    base + \"/index/ap90\",\n",
    "    base + \"/topics/ap90-51-100\",\n",
    "    base + \"/qrels/ap90-51-100\",\n",
    "    True\n",
    ")"
   ]
  },
  {
   "cell_type": "code",
   "execution_count": 5,
   "metadata": {
    "scrolled": true
   },
   "outputs": [
    {
     "name": "stdout",
     "output_type": "stream",
     "text": [
      "b 0 \t MAP 0.23836718199866802\n",
      "b 0.1 \t MAP 0.24179314137134253\n",
      "b 0.2 \t MAP 0.24382705342772062\n",
      "b 0.3 \t MAP 0.24553404277688443\n",
      "b 0.4 \t MAP 0.24790390587799105\n",
      "b 0.5 \t MAP 0.24836284863139899\n",
      "b 0.6 \t MAP 0.2523952025132072\n",
      "b 0.7 \t MAP 0.24850438151898174\n",
      "b 0.8 \t MAP 0.24482104793010845\n",
      "b 0.9 \t MAP 0.2437809711217873\n",
      "b 1 \t MAP 0.2400812980654463\n"
     ]
    }
   ],
   "source": [
    "b_list = [0,0.1,0.2,0.3,0.4,0.5,0.6,0.7,0.8,0.9,1]\n",
    "map_list = []\n",
    "for b in b_list:\n",
    "    model = BM25Model(b, k1=0.9, k3=8)\n",
    "    run = model.run(dataset)\n",
    "    print(\"b\", b, \"\\t\", \"MAP\", run.avgPrec())\n",
    "    map_list.append(run.avgPrec())"
   ]
  },
  {
   "cell_type": "code",
   "execution_count": 6,
   "metadata": {},
   "outputs": [
    {
     "data": {
      "image/png": "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\n",
      "text/plain": [
       "<Figure size 432x288 with 1 Axes>"
      ]
     },
     "metadata": {
      "needs_background": "light"
     },
     "output_type": "display_data"
    }
   ],
   "source": [
    "import matplotlib.pyplot as plt\n",
    "plt.plot(b_list, map_list, \n",
    "         color='blue', marker='o', linestyle='dashed',linewidth=1, markersize=6)\n",
    "plt.xlabel('b')\n",
    "plt.ylabel('MAP')\n",
    "plt.show()"
   ]
  },
  {
   "cell_type": "code",
   "execution_count": 7,
   "metadata": {},
   "outputs": [
    {
     "ename": "TypeError",
     "evalue": "__str__ returned non-string (type NoneType)",
     "output_type": "error",
     "traceback": [
      "\u001b[0;31m---------------------------------------------------------------------------\u001b[0m",
      "\u001b[0;31mTypeError\u001b[0m                                 Traceback (most recent call last)",
      "\u001b[0;32m<ipython-input-7-7667ec7d87d4>\u001b[0m in \u001b[0;36m<module>\u001b[0;34m\u001b[0m\n\u001b[0;32m----> 1\u001b[0;31m \u001b[0mprint\u001b[0m\u001b[0;34m(\u001b[0m\u001b[0mrun\u001b[0m\u001b[0;34m)\u001b[0m\u001b[0;34m\u001b[0m\u001b[0;34m\u001b[0m\u001b[0m\n\u001b[0m",
      "\u001b[0;31mTypeError\u001b[0m: __str__ returned non-string (type NoneType)"
     ]
    }
   ],
   "source": [
    "print(run)"
   ]
  },
  {
   "cell_type": "code",
   "execution_count": 8,
   "metadata": {},
   "outputs": [
    {
     "name": "stdout",
     "output_type": "stream",
     "text": ["test"]\n"
     ]
    }
   ],
   "source": [
    "print(run.getEntriesBy(51))"
   ]
  },
  {
   "cell_type": "code",
   "execution_count": 9,
   "metadata": {},
   "outputs": [
    {
     "data": {
      "text/html": [
       "<a href=\"http://example.com\">link</a><table><tr><td>test</td></tr></table>"
      ],
      "text/plain": [
       "<IPython.core.display.HTML object>"
      ]
     },
     "execution_count": 9,
     "metadata": {},
     "output_type": "execute_result"
    }
   ],
   "source": [
    "from IPython.core.display import HTML\n",
    "HTML('<a href=\"http://example.com\">link</a>')"
   ]
  },
  {
   "cell_type": "code",
   "execution_count": null,
   "metadata": {},
   "outputs": [],
   "source": []
  }
 ],
 "metadata": {
  "kernelspec": {
   "display_name": "Python 3",
   "language": "python",
   "name": "python3"
  },
  "language_info": {
   "codemirror_mode": {
    "name": "ipython",
    "version": 3
   },
   "file_extension": ".py",
   "mimetype": "text/x-python",
   "name": "python",
   "nbconvert_exporter": "python",
   "pygments_lexer": "ipython3",
   "version": "3.7.2"
  }
 },
 "nbformat": 4,
 "nbformat_minor": 2
}
