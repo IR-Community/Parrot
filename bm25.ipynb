{
 "cells": [
  {
   "cell_type": "code",
   "execution_count": 1,
   "metadata": {},
   "outputs": [],
   "source": [
    "from parrot import *"
   ]
  },
  {
   "cell_type": "code",
   "execution_count": 2,
   "metadata": {},
   "outputs": [
    {
     "name": "stdout",
     "output_type": "stream",
     "text": [
      "#docs: 78583\n",
      "#terms: 175559\n",
      "time used: 26s\n"
     ]
    }
   ],
   "source": [
    "index_collection(\n",
    "    collection = \"TrecCollection\",\n",
    "    process = 16,\n",
    "    store_doc_vector = True,\n",
    "    store_raw_doc = True,\n",
    "    input = \"/trec/disk3/AP/\"\n",
    "    output = \"/trec/index/ap90\"\n",
    ")"
   ]
  },
  {
   "cell_type": "code",
   "execution_count": 3,
   "metadata": {},
   "outputs": [
    {
     "name": "stdout",
     "output_type": "stream",
     "text": [
      "#docs: 78583\n",
      "#queries: 50\n"
     ]
    }
   ],
   "source": [
    "ap90 = datasets.ap90.load(\"/trec/index/ap90\") \n",
    "print(ap90) "
   ]
  },
  {
   "cell_type": "code",
   "execution_count": 4,
   "metadata": {
    "scrolled": true
   },
   "outputs": [
    {
     "name": "stdout",
     "output_type": "stream",
     "text": [
      "b \t MAP\n",
      "0 \t 0.23788419308923295\n",
      "0.1 \t 0.24153463457444724\n",
      "0.2 \t 0.2437882749840369\n",
      "0.3 \t 0.2457261206151248\n",
      "0.4 \t 0.24786749737277464\n",
      "0.5 \t 0.2486832922628557\n",
      "0.6 \t 0.2534309953775126\n",
      "0.7 \t 0.24993302372372256\n",
      "0.8 \t 0.2456602631270451\n",
      "0.9 \t 0.24462936342688196\n",
      "1 \t 0.2409866166717072\n"
     ]
    }
   ],
   "source": [
    "class MyBM25Model(Model):\n",
    "    def __init__(self, k1 = 1.2, b = 0.75):\n",
    "        self.k1 = k1; self.b = b\n",
    "    \n",
    "    def pre_compute(self, df, ctf, ctn, C, N):\n",
    "        self.avgdl =  C / N\n",
    "        self.idf = log(1 + (N - df + 0.5) / (df + 0.5))\n",
    "        \n",
    "    def score_term(self, tf, ctn, dl):\n",
    "        b = self.b; k1 = self.k1 \n",
    "        tf_part = tf * (k1 + 1) / (tf + k1 * (1 - b + b * dl / self.avgdl))\n",
    "        return tf_part * self.idf\n",
    "\n",
    "result_list = []\n",
    "print(\"b\",\"\\t\", \"MAP\")\n",
    "for k in frange(0, 1, 0.1):\n",
    "    model = MyBM25Model(k1 = 1.2, b = k)\n",
    "    result = model.run(dataset = ap90) \n",
    "    print(b, \"\\t\", run.avgPrec())\n",
    "    result_list.append(result)"
   ]
  },
  {
   "cell_type": "code",
   "execution_count": 5,
   "metadata": {},
   "outputs": [
    {
     "data": {
      "image/png": "[encoded data removed]",
      "text/plain": [
       "<Figure size 432x288 with 1 Axes>"
      ]
     },
     "metadata": {
      "needs_background": "light"
     },
     "output_type": "display_data"
    }
   ],
   "source": [
    "plot_single_trend(x_list = b_list, y_list = map_list, xlabel=\"b\", ylabel=\"MAP\")"
   ]
  },
  {
   "cell_type": "code",
   "execution_count": 6,
   "metadata": {},
   "outputs": [
    {
     "data": {
      "text/html": [
       "<img src='https://raw.githubusercontent.com/wayne-batman/Parrot/master/case.png'/>"
      ],
      "text/plain": [
       "<IPython.core.display.HTML object>"
      ]
     },
     "execution_count": 6,
     "metadata": {},
     "output_type": "execute_result"
    }
   ],
   "source": [
    "explain_case(result = result_list[0], doc = 0)"
   ]
  }
 ],
 "metadata": {
  "kernelspec": {
   "display_name": "Python 3",
   "language": "python",
   "name": "python3"
  },
  "language_info": {
   "codemirror_mode": {
    "name": "ipython",
    "version": 3
   },
   "file_extension": ".py",
   "mimetype": "text/x-python",
   "name": "python",
   "nbconvert_exporter": "python",
   "pygments_lexer": "ipython3",
   "version": "3.7.2"
  }
 },
 "nbformat": 4,
 "nbformat_minor": 2
}
