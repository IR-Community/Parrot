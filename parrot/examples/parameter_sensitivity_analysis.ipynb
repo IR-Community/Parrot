{
 "cells": [
  {
   "cell_type": "code",
   "execution_count": 1,
   "metadata": {},
   "outputs": [],
   "source": [
    "%load_ext autoreload\n",
    "%autoreload 2"
   ]
  },
  {
   "cell_type": "code",
   "execution_count": 7,
   "metadata": {},
   "outputs": [],
   "source": [
    "import os,sys\n",
    "module_path = os.path.abspath(os.path.join('/Users/tu/Desktop/trec/Parrot/venv/src'))\n",
    "sys.path.append(module_path)\n",
    "from parrot.core import *\n",
    "from parrot.model import *\n"
   ]
  },
  {
   "cell_type": "code",
   "execution_count": 8,
   "metadata": {},
   "outputs": [
    {
     "name": "stdout",
     "output_type": "stream",
     "text": [
      "Collection:/Users/tu/Desktop/trec/index/ap90\n",
      "total_term_freq:25556408\n",
      "num_docs:78583\n",
      "num_terms:175559\n"
     ]
    }
   ],
   "source": [
    "base = \"/Users/tu/Desktop/trec/\"\n",
    "dataset = DataSet.load(\n",
    "    base + \"/index/ap90\",\n",
    "    base + \"/topics/ap90-51-100\",\n",
    "    base + \"/qrels/ap90-51-100\",\n",
    "    True\n",
    ")\n",
    "print(dataset.collection)"
   ]
  },
  {
   "cell_type": "code",
   "execution_count": 9,
   "metadata": {},
   "outputs": [
    {
     "name": "stderr",
     "output_type": "stream",
     "text": [
      "100%|██████████| 50/50 [00:11<00:00,  4.52it/s]\n",
      "100%|██████████| 50/50 [00:11<00:00,  4.49it/s]\n",
      "100%|██████████| 50/50 [00:11<00:00,  4.41it/s]\n",
      "100%|██████████| 50/50 [00:11<00:00,  4.46it/s]\n",
      "100%|██████████| 50/50 [00:11<00:00,  4.14it/s]\n",
      "100%|██████████| 50/50 [00:11<00:00,  4.42it/s]\n",
      "100%|██████████| 50/50 [00:11<00:00,  4.45it/s]\n",
      "100%|██████████| 50/50 [00:11<00:00,  4.14it/s]\n",
      "100%|██████████| 50/50 [00:11<00:00,  4.45it/s]\n",
      "100%|██████████| 50/50 [00:11<00:00,  4.21it/s]"
     ]
    },
    {
     "name": "stdout",
     "output_type": "stream",
     "text": [
      "0 \t 0.23789823117517045\n",
      "0.1 \t 0.2415486726603847\n",
      "0.2 \t 0.2438023130699744\n",
      "0.3 \t 0.2457401587010623\n",
      "0.4 \t 0.24788153545871214\n",
      "0.5 \t 0.2486973303487932\n",
      "0.6 \t 0.25344503346345015\n",
      "0.7 \t 0.24994706180966006\n",
      "0.8 \t 0.2456743012129826\n",
      "0.9 \t 0.24464340151281946\n"
     ]
    },
    {
     "name": "stderr",
     "output_type": "stream",
     "text": [
      "\n"
     ]
    }
   ],
   "source": [
    "# parameter sensitivity analysis for the BM25 model\n",
    "\n",
    "b_list = [0,0.1,0.2,0.3,0.4,0.5,0.6,0.7,0.8,0.9]\n",
    "map_list = []\n",
    "for b in b_list:\n",
    "    model = BM25Model(b, k1=0.9)\n",
    "    run = model.run(dataset)\n",
    "    map_list.append(run.avg_prec())\n",
    "\n",
    "for k in range(len(b_list)):\n",
    "    print(b_list[k], \"\\t\", map_list[k])"
   ]
  },
  {
   "cell_type": "code",
   "execution_count": 10,
   "metadata": {},
   "outputs": [
    {
     "data": {
      "image/png": "[encoded data removed]",
      "text/plain": [
       "<Figure size 432x288 with 1 Axes>"
      ]
     },
     "metadata": {
      "needs_background": "light"
     },
     "output_type": "display_data"
    }
   ],
   "source": [
    "plot_trend(\"b\", b_list, \"MAP\", map_list)"
   ]
  }
 ],
 "metadata": {
  "kernelspec": {
   "display_name": "Python 3",
   "language": "python",
   "name": "python3"
  },
  "language_info": {
   "codemirror_mode": {
    "name": "ipython",
    "version": 3
   },
   "file_extension": ".py",
   "mimetype": "text/x-python",
   "name": "python",
   "nbconvert_exporter": "python",
   "pygments_lexer": "ipython3",
   "version": "3.7.1"
  }
 },
 "nbformat": 4,
 "nbformat_minor": 2
}
