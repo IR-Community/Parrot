{
 "cells": [
  {
   "cell_type": "code",
   "execution_count": 1,
   "metadata": {},
   "outputs": [
    {
     "name": "stderr",
     "output_type": "stream",
     "text": [
      "Using TensorFlow backend.\n"
     ]
    },
    {
     "name": "stdout",
     "output_type": "stream",
     "text": [
      "Collection:/Users/tu/Desktop/trec/index/ap90\n",
      "total_term_freq:25556408\n",
      "num_docs:78583\n",
      "num_terms:175559\n"
     ]
    }
   ],
   "source": [
    "%load_ext autoreload\n",
    "%autoreload 2\n",
    "\n",
    "import numpy as np\n",
    "import pandas as pd\n",
    "import matchzoo\n",
    "\n",
    "import os,sys\n",
    "module_path = os.path.abspath(os.path.join('/Users/tu/Desktop/trec/Parrot/venv/src'))\n",
    "sys.path.append(module_path)\n",
    "from parrot.core import *\n",
    "\n",
    "base = \"/Users/tu/Desktop/trec/\"\n",
    "dataset = DataSet.load(\n",
    "    base + \"/index/ap90\",\n",
    "    base + \"/topics/ap90-51-100\",\n",
    "    base + \"/qrels/ap90-51-100\",\n",
    "    True\n",
    ")\n",
    "print(dataset.collection)\n"
   ]
  },
  {
   "cell_type": "code",
   "execution_count": 2,
   "metadata": {},
   "outputs": [],
   "source": [
    "ml_dataset = MLDataSet.load(dataset, fold=5)"
   ]
  },
  {
   "cell_type": "code",
   "execution_count": 3,
   "metadata": {},
   "outputs": [
    {
     "name": "stdout",
     "output_type": "stream",
     "text": [
      "      id_left       id_right  label\n",
      "0          71  AP900516-0003    0.0\n",
      "1          71  AP900516-0060    0.0\n",
      "2          71  AP900516-0112    0.0\n",
      "3          71  AP900517-0211    0.0\n",
      "4          71  AP900518-0043    0.0\n",
      "5          71  AP900518-0168    0.0\n",
      "6          71  AP900519-0057    0.0\n",
      "7          71  AP900519-0135    0.0\n",
      "8          71  AP900521-0012    0.0\n",
      "9          71  AP900521-0112    0.0\n",
      "10         71  AP900523-0008    0.0\n",
      "11         71  AP900523-0154    0.0\n",
      "12         71  AP900523-0184    0.0\n",
      "13         71  AP900523-0210    0.0\n",
      "14         71  AP900524-0087    0.0\n",
      "15         71  AP900524-0180    0.0\n",
      "16         71  AP900525-0052    1.0\n",
      "17         71  AP900525-0094    0.0\n",
      "18         71  AP900525-0161    0.0\n",
      "19         71  AP900526-0056    0.0\n",
      "20         71  AP900526-0102    1.0\n",
      "21         71  AP900526-0126    0.0\n",
      "22         71  AP900527-0007    1.0\n",
      "23         71  AP900527-0017    0.0\n",
      "24         71  AP900527-0054    0.0\n",
      "25         71  AP900528-0006    0.0\n",
      "26         71  AP900529-0135    1.0\n",
      "27         71  AP900529-0193    0.0\n",
      "28         71  AP900530-0031    0.0\n",
      "29         71  AP900530-0072    1.0\n",
      "...       ...            ...    ...\n",
      "39406      70  AP901223-0021    0.0\n",
      "39407      70  AP901223-0065    0.0\n",
      "39408      70  AP901224-0004    0.0\n",
      "39409      70  AP901224-0017    0.0\n",
      "39410      70  AP901224-0053    0.0\n",
      "39411      70  AP901224-0076    0.0\n",
      "39412      70  AP901224-0078    0.0\n",
      "39413      70  AP901224-0098    0.0\n",
      "39414      70  AP901224-0126    0.0\n",
      "39415      70  AP901224-0127    0.0\n",
      "39416      70  AP901224-0152    0.0\n",
      "39417      70  AP901224-0163    0.0\n",
      "39418      70  AP901224-0211    0.0\n",
      "39419      70  AP901226-0055    0.0\n",
      "39420      70  AP901226-0137    0.0\n",
      "39421      70  AP901226-0144    0.0\n",
      "39422      70  AP901227-0050    0.0\n",
      "39423      70  AP901227-0096    0.0\n",
      "39424      70  AP901227-0145    0.0\n",
      "39425      70  AP901228-0091    0.0\n",
      "39426      70  AP901228-0103    0.0\n",
      "39427      70  AP901228-0119    0.0\n",
      "39428      70  AP901229-0020    0.0\n",
      "39429      70  AP901229-0068    0.0\n",
      "39430      70  AP901229-0106    0.0\n",
      "39431      70  AP901230-0009    0.0\n",
      "39432      70  AP901231-0138    0.0\n",
      "39433      70  AP901231-0139    0.0\n",
      "39434      70  AP901231-0153    0.0\n",
      "39435      70  AP901231-0157    0.0\n",
      "\n",
      "[39436 rows x 3 columns]\n"
     ]
    }
   ],
   "source": [
    "train_pack, test_pack = ml_dataset.fold(0)\n",
    "\n",
    "print(train_pack.relation)"
   ]
  },
  {
   "cell_type": "code",
   "execution_count": 4,
   "metadata": {},
   "outputs": [
    {
     "name": "stdout",
     "output_type": "stream",
     "text": [
      "                                                      text_right\n",
      "id_right                                                        \n",
      "AP901222-0002  <HEAD>EC Environment Ministers Decide To Ban C...\n",
      "AP901222-0006  <HEAD>Even Rodeo Drive Feels Recession's Pinch...\n",
      "AP900622-0005  <HEAD>Flag-Burning Fight Heading for the Campa...\n",
      "AP901222-0008  <HEAD>Jet Completes Front Yard Christmas Displ...\n",
      "AP901222-0011  <HEAD>For Young Japanese, Christmas Means Roma...\n",
      "AP901222-0014  <HEAD>UPI, FNN Owner Says It Can't Repay $20.7...\n",
      "AP900622-0013  <HEAD>New AIDS Treatments Promise To Be Better...\n",
      "AP900622-0014  <HEAD>New President Willing To Try Military Of...\n",
      "AP901222-0017  <HEAD>Wesley Bell Ringers Still Strong After Q...\n",
      "AP901222-0020  <HEAD>Report Calls for Break in State Control ...\n",
      "AP901222-0022  <HEAD>Troops in Gulf Put on Higher Alert After...\n",
      "AP901222-0024  <HEAD>`Candyman' Jerry Winters Found Guilty Of...\n",
      "AP901222-0031  <HEAD>Buchwald Says `Coming to America' Ruling...\n",
      "AP901222-0035  <HEAD>Winter in Hong Kong Means It's Time For ...\n",
      "AP901222-0039  <HEAD>Earth First! Defendants Arraigned on New...\n",
      "AP901222-0040  <HEAD>With EC Presidency Over, Prospect of Gov...\n",
      "AP900622-0031  <HEAD>Senate Panel Approves 1990 Farm Bill Wit...\n",
      "AP900622-0036  <HEAD>AIDS Conference Protests Fall Into Patte...\n",
      "AP901222-0047  <HEAD>Arctic Weather Holds Most of Nation in I...\n",
      "AP901222-0054  <TEXT>\\nFormer Gov. Sigurd Anderson, whose car...\n",
      "AP901222-0055  <HEAD>Cambodian Peace Talks Resume</HEAD>\\n<TE...\n",
      "AP901222-0056  <HEAD>Trial of Policeman Accused of Killing 4 ...\n",
      "AP901222-0057  <HEAD>KGB Chief Warns of Bloodshed in Bringing...\n",
      "AP901222-0058  <HEAD>LaserPhoto NY14</HEAD>\\n<TEXT>\\nShe's an...\n",
      "AP900622-0042  <HEAD>RETRANSMITTING a0462 to FIX cycle design...\n",
      "AP901222-0060  <HEAD>At Least 19 U.S. Sailors Dead as Boat Ca...\n",
      "AP900622-0045  <HEAD>Deadline Nears For Constitutional Pact o...\n",
      "AP901222-0068  <HEAD>In The Holy Land, Christmas Comes Three ...\n",
      "AP901222-0072  <HEAD>Shevardnadze Resignation Shows Perestroi...\n",
      "AP901222-0073  <HEAD>Volunteers, Retired Soldiers Filling In ...\n",
      "...                                                          ...\n",
      "AP901012-0137  <HEAD>Committee Approves $57 Billion More for ...\n",
      "AP901012-0138  <HEAD>Times Mirror Corrects Poll Figures On Re...\n",
      "AP900412-0237  <HEAD>Chemical Posts 1st Qtr Gain On Asset Sal...\n",
      "AP900412-0239  <HEAD>Oil Prices Still Under Selling Pressure<...\n",
      "AP900412-0248  <TEXT>\\nStocks reversed their opening gains an...\n",
      "AP901012-0154  <HEAD>More Western Missions in Kuwait Close; A...\n",
      "AP901012-0159  <HEAD>Child Testifies Relative With AIDS Force...\n",
      "AP901012-0160  <HEAD>Sharp Cost Increases Feared In Household...\n",
      "AP901012-0161  <HEAD>Animal Activists to Protest Noise Ban</H...\n",
      "AP901012-0167  <HEAD>Soviet Government Decrees Anti-Crime Cam...\n",
      "AP901012-0178  <HEAD>Gunmen Kill Egypt's Parliament Speaker, ...\n",
      "AP901012-0180  <HEAD>Oil Producers Call for Fund to Protect L...\n",
      "AP901012-0181  <TEXT>\\nSaddam Hussein is starving the last\\nf...\n",
      "AP901012-0185  <HEAD>Bad Reaction for Chemical Stocks</HEAD>\\...\n",
      "AP901012-0190  <HEAD>Civilian Lowers Aim of the Anti-Missile ...\n",
      "AP901012-0193  <TEXT>\\nThe first public airing of allegations...\n",
      "AP901012-0194  <HEAD>A Barrel of Oil, From Top to Bottom</HEA...\n",
      "AP901012-0197  <HEAD>Reporter, Editor Dismissed in Flap Over ...\n",
      "AP901012-0202  <HEAD>Brady Asks More Money for S&amp;L Bailou...\n",
      "AP901012-0204  <HEAD>Sun Belt Metro Areas Seen Growing Faster...\n",
      "AP901012-0206  <HEAD>House Panel OKs $13 Billion in Farm Prog...\n",
      "AP901012-0209  <HEAD>California Restricts Hair Sprays, Degrea...\n",
      "AP901012-0217  <HEAD>Wholesale Prices Soar 1.6 Percent in Sep...\n",
      "AP901012-0224  <TEXT>\\nHere are the major business events and...\n",
      "AP901012-0245  <HEAD>Oil Prices Retreat Slightly</HEAD>\\n<TEX...\n",
      "AP901012-0247  <HEAD>Soviets Agree to Send Natural Gas to Pol...\n",
      "AP901012-0249  <HEAD>Bond Prices Soar on Report Iraq Mulling ...\n",
      "AP901012-0250  <TEXT>\\nU.S. District Judge A. David Mazzone o...\n",
      "AP901012-0253  <HEAD>Kodak Ordered To Pay Polaroid $900 Milli...\n",
      "AP901012-0255  <HEAD>Building Company Seeks Chapter 11 Protec...\n",
      "\n",
      "[26248 rows x 1 columns]\n"
     ]
    }
   ],
   "source": [
    "print(train_pack.right)\n"
   ]
  },
  {
   "cell_type": "code",
   "execution_count": 5,
   "metadata": {},
   "outputs": [
    {
     "name": "stderr",
     "output_type": "stream",
     "text": [
      "Processing text_left with chain_transform of Tokenize => Lowercase => PuncRemoval => StopRemoval => NgramLetter: 100%|██████████| 40/40 [00:00<00:00, 2193.82it/s]\n",
      "Processing text_right with chain_transform of Tokenize => Lowercase => PuncRemoval => StopRemoval => NgramLetter: 100%|██████████| 26248/26248 [00:07<00:00, 3736.55it/s]\n",
      "Processing text_left with extend: 100%|██████████| 40/40 [00:00<00:00, 58929.46it/s]\n",
      "Processing text_right with extend: 100%|██████████| 26248/26248 [00:00<00:00, 516163.94it/s]\n",
      "Building Vocabulary from a datapack.: 100%|██████████| 1663206/1663206 [00:00<00:00, 3097165.96it/s]\n",
      "Processing text_left with chain_transform of Tokenize => Lowercase => PuncRemoval => StopRemoval => NgramLetter => WordHashing: 100%|██████████| 40/40 [00:00<00:00, 2645.87it/s]\n",
      "Processing text_right with chain_transform of Tokenize => Lowercase => PuncRemoval => StopRemoval => NgramLetter => WordHashing: 100%|██████████| 26248/26248 [00:18<00:00, 1432.63it/s]\n",
      "Processing text_left with chain_transform of Tokenize => Lowercase => PuncRemoval => StopRemoval => NgramLetter => WordHashing: 100%|██████████| 11/11 [00:00<00:00, 1950.76it/s]\n",
      "Processing text_right with chain_transform of Tokenize => Lowercase => PuncRemoval => StopRemoval => NgramLetter => WordHashing: 100%|██████████| 8770/8770 [00:06<00:00, 1416.01it/s]\n"
     ]
    }
   ],
   "source": [
    "import matchzoo as mz\n",
    "preprocessor = mz.preprocessors.DSSMPreprocessor()\n",
    "train_processed = preprocessor.fit_transform(train_pack)\n",
    "valid_processed = preprocessor.transform(test_pack)"
   ]
  },
  {
   "cell_type": "code",
   "execution_count": 6,
   "metadata": {},
   "outputs": [],
   "source": [
    "ranking_task = matchzoo.tasks.Ranking(loss=mz.losses.RankCrossEntropyLoss(num_neg=4))\n",
    "ranking_task.metrics = [\n",
    "    mz.metrics.NormalizedDiscountedCumulativeGain(k=3),\n",
    "    mz.metrics.NormalizedDiscountedCumulativeGain(k=5),\n",
    "    mz.metrics.MeanAveragePrecision()\n",
    "]"
   ]
  },
  {
   "cell_type": "code",
   "execution_count": 7,
   "metadata": {},
   "outputs": [
    {
     "name": "stdout",
     "output_type": "stream",
     "text": [
      "WARNING:tensorflow:From /Users/tu/anaconda3/lib/python3.7/site-packages/tensorflow/python/framework/op_def_library.py:263: colocate_with (from tensorflow.python.framework.ops) is deprecated and will be removed in a future version.\n",
      "Instructions for updating:\n",
      "Colocations handled automatically by placer.\n"
     ]
    }
   ],
   "source": [
    "model = matchzoo.models.DSSM()\n",
    "model.params['input_shapes'] = preprocessor.context['input_shapes']\n",
    "model.params['task'] = ranking_task\n",
    "model.params['mlp_num_layers'] = 3\n",
    "model.params['mlp_num_units'] = 300\n",
    "model.params['mlp_num_fan_out'] = 128\n",
    "model.params['mlp_activation_func'] = 'relu'\n",
    "model.guess_and_fill_missing_params()\n",
    "model.build()\n",
    "model.compile()"
   ]
  },
  {
   "cell_type": "code",
   "execution_count": 1,
   "metadata": {},
   "outputs": [
    {
     "ename": "NameError",
     "evalue": "name 'mz' is not defined",
     "output_type": "error",
     "traceback": [
      "\u001b[0;31m---------------------------------------------------------------------------\u001b[0m",
      "\u001b[0;31mNameError\u001b[0m                                 Traceback (most recent call last)",
      "\u001b[0;32m<ipython-input-1-83154d481d66>\u001b[0m in \u001b[0;36m<module>\u001b[0;34m\u001b[0m\n\u001b[0;32m----> 1\u001b[0;31m \u001b[0mtrain_generator\u001b[0m \u001b[0;34m=\u001b[0m \u001b[0mmz\u001b[0m\u001b[0;34m.\u001b[0m\u001b[0mPairDataGenerator\u001b[0m\u001b[0;34m(\u001b[0m\u001b[0mtrain_processed\u001b[0m\u001b[0;34m,\u001b[0m \u001b[0mnum_dup\u001b[0m\u001b[0;34m=\u001b[0m\u001b[0;36m1\u001b[0m\u001b[0;34m,\u001b[0m \u001b[0mnum_neg\u001b[0m\u001b[0;34m=\u001b[0m\u001b[0;36m4\u001b[0m\u001b[0;34m,\u001b[0m \u001b[0mbatch_size\u001b[0m\u001b[0;34m=\u001b[0m\u001b[0;36m64\u001b[0m\u001b[0;34m,\u001b[0m \u001b[0mshuffle\u001b[0m\u001b[0;34m=\u001b[0m\u001b[0;32mTrue\u001b[0m\u001b[0;34m)\u001b[0m\u001b[0;34m\u001b[0m\u001b[0;34m\u001b[0m\u001b[0m\n\u001b[0m\u001b[1;32m      2\u001b[0m \u001b[0;34m\u001b[0m\u001b[0m\n\u001b[1;32m      3\u001b[0m \u001b[0mvalid_x\u001b[0m\u001b[0;34m,\u001b[0m \u001b[0mvalid_y\u001b[0m \u001b[0;34m=\u001b[0m \u001b[0mvalid_processed\u001b[0m\u001b[0;34m.\u001b[0m\u001b[0munpack\u001b[0m\u001b[0;34m(\u001b[0m\u001b[0;34m)\u001b[0m\u001b[0;34m\u001b[0m\u001b[0;34m\u001b[0m\u001b[0m\n\u001b[1;32m      4\u001b[0m \u001b[0mevaluate\u001b[0m \u001b[0;34m=\u001b[0m \u001b[0mmz\u001b[0m\u001b[0;34m.\u001b[0m\u001b[0mcallbacks\u001b[0m\u001b[0;34m.\u001b[0m\u001b[0mEvaluateAllMetrics\u001b[0m\u001b[0;34m(\u001b[0m\u001b[0mmodel\u001b[0m\u001b[0;34m,\u001b[0m \u001b[0mx\u001b[0m\u001b[0;34m=\u001b[0m\u001b[0mvalid_x\u001b[0m\u001b[0;34m,\u001b[0m \u001b[0my\u001b[0m\u001b[0;34m=\u001b[0m\u001b[0mvalid_y\u001b[0m\u001b[0;34m,\u001b[0m \u001b[0mbatch_size\u001b[0m\u001b[0;34m=\u001b[0m\u001b[0;36m64\u001b[0m\u001b[0;34m)\u001b[0m\u001b[0;34m\u001b[0m\u001b[0;34m\u001b[0m\u001b[0m\n\u001b[1;32m      5\u001b[0m \u001b[0;34m\u001b[0m\u001b[0m\n",
      "\u001b[0;31mNameError\u001b[0m: name 'mz' is not defined"
     ]
    }
   ],
   "source": [
    "train_generator = matchzoo.PairDataGenerator(train_processed, num_dup=1, num_neg=4, batch_size=64, shuffle=True)\n",
    "\n",
    "valid_x, valid_y = valid_processed.unpack()\n",
    "evaluate = mz.callbacks.EvaluateAllMetrics(model, x=valid_x, y=valid_y, batch_size=64)\n",
    "\n",
    "history = model.fit_generator(train_generator, epochs=10, callbacks=[evaluate], workers=5, use_multiprocessing=False)"
   ]
  },
  {
   "cell_type": "code",
   "execution_count": null,
   "metadata": {},
   "outputs": [],
   "source": []
  }
 ],
 "metadata": {
  "kernelspec": {
   "display_name": "Python 3",
   "language": "python",
   "name": "python3"
  },
  "language_info": {
   "codemirror_mode": {
    "name": "ipython",
    "version": 3
   },
   "file_extension": ".py",
   "mimetype": "text/x-python",
   "name": "python",
   "nbconvert_exporter": "python",
   "pygments_lexer": "ipython3",
   "version": "3.7.1"
  }
 },
 "nbformat": 4,
 "nbformat_minor": 2
}
