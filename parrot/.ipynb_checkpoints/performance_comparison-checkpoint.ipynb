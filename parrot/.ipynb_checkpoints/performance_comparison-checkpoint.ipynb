{
 "cells": [
  {
   "cell_type": "code",
   "execution_count": 30,
   "metadata": {},
   "outputs": [
    {
     "name": "stdout",
     "output_type": "stream",
     "text": [
      "The autoreload extension is already loaded. To reload it, use:\n",
      "  %reload_ext autoreload\n"
     ]
    }
   ],
   "source": [
    "%load_ext autoreload\n",
    "%autoreload 2"
   ]
  },
  {
   "cell_type": "code",
   "execution_count": 31,
   "metadata": {},
   "outputs": [],
   "source": [
    "import os,sys\n",
    "module_path = os.path.abspath(os.path.join('/Users/tu/Desktop/trec/Parrot/venv/src'))\n",
    "sys.path.append(module_path)\n",
    "from parrot import *"
   ]
  },
  {
   "cell_type": "code",
   "execution_count": 32,
   "metadata": {},
   "outputs": [
    {
     "name": "stdout",
     "output_type": "stream",
     "text": [
      "Collection:/Users/tu/Desktop/trec/index/ap90\n",
      "total_term_freq:25556408\n",
      "num_docs:78583\n",
      "num_terms:175559\n"
     ]
    }
   ],
   "source": [
    "base = \"/Users/tu/Desktop/trec/\"\n",
    "dataset = DataSet.load(\n",
    "    base + \"/index/ap90\",\n",
    "    base + \"/topics/ap90-51-100\",\n",
    "    base + \"/qrels/ap90-51-100\",\n",
    "    True\n",
    ")\n",
    "print(dataset.collection)"
   ]
  },
  {
   "cell_type": "code",
   "execution_count": 34,
   "metadata": {},
   "outputs": [
    {
     "name": "stdout",
     "output_type": "stream",
     "text": [
      "BM25Model \t 0.2467660051195293\n",
      "DLMModel \t 0.2206963845116881\n",
      "PIVModel \t 0.2417928303150193\n",
      "NTFIDFModel \t 0.2397517748904947\n"
     ]
    }
   ],
   "source": [
    "\n",
    "models = [BM25Model(), DLMModel(),PIVModel(),NTFIDFModel()]\n",
    "result_set_list = []\n",
    "models_list = []\n",
    "\n",
    "for model in models:\n",
    "    result_set = model.run(dataset)\n",
    "    print(model.get_name(), \"\\t\", result_set.avg_prec())\n",
    "    models_list.append(model.get_name())\n",
    "    result_set_list.append(result_set.avg_prec())"
   ]
  },
  {
   "cell_type": "code",
   "execution_count": 6,
   "metadata": {},
   "outputs": [
    {
     "ename": "NameError",
     "evalue": "name 'b_list' is not defined",
     "output_type": "error",
     "traceback": [
      "\u001b[0;31m---------------------------------------------------------------------------\u001b[0m",
      "\u001b[0;31mNameError\u001b[0m                                 Traceback (most recent call last)",
      "\u001b[0;32m<ipython-input-6-9162bc9d2278>\u001b[0m in \u001b[0;36m<module>\u001b[0;34m\u001b[0m\n\u001b[0;32m----> 1\u001b[0;31m \u001b[0mplot_trend\u001b[0m\u001b[0;34m(\u001b[0m\u001b[0;34m\"b\"\u001b[0m\u001b[0;34m,\u001b[0m \u001b[0mb_list\u001b[0m\u001b[0;34m,\u001b[0m \u001b[0;34m\"MAP\"\u001b[0m\u001b[0;34m,\u001b[0m \u001b[0mmap_list\u001b[0m\u001b[0;34m)\u001b[0m\u001b[0;34m\u001b[0m\u001b[0;34m\u001b[0m\u001b[0m\n\u001b[0m",
      "\u001b[0;31mNameError\u001b[0m: name 'b_list' is not defined"
     ]
    }
   ],
   "source": [
    "\n",
    "import matplotlib.pyplot as plt; plt.rcdefaults()\n",
    "import numpy as np\n",
    "import matplotlib.pyplot as plt\n",
    "\n",
    "objects = ('Python', 'C++', 'Java', 'Perl', 'Scala', 'Lisp')\n",
    "y_pos = np.arange(len(objects))\n",
    "performance = [10,8,6,4,2,1]\n",
    "\n",
    "plt.bar(y_pos, performance, align='center', alpha=0.5)\n",
    "plt.xticks(y_pos, objects)\n",
    "plt.ylabel('Usage')\n",
    "plt.title('Programming language usage')\n",
    "\n",
    "plt.show()\n"
   ]
  },
  {
   "cell_type": "code",
   "execution_count": 33,
   "metadata": {},
   "outputs": [
    {
     "name": "stdout",
     "output_type": "stream",
     "text": [
      "0.2206963845116881\n"
     ]
    }
   ],
   "source": [
    "import math\n",
    "\n",
    "class MyDLMModel(Model):\n",
    "    \n",
    "    def score_term(self, tf: float, tn: float, dl: float, ql: float, ctf: float,\n",
    "                  df: float, qtf: float, ctn: float, C: float, N: float):\n",
    "        mu = 2500\n",
    "        delta = 0.05\n",
    "        collectionFrequency = ctf / C\n",
    "        deltaPart = math.log(1.0 + delta / collectionFrequency)\n",
    "        score = math.log(1 + tf / collectionFrequency) + deltaPart + ql * math.log(mu / (mu + dl))\n",
    "        return qtf * score\n",
    "    \n",
    "    \n",
    "print(MyDLMModel().run(dataset).avg_prec())"
   ]
  },
  {
   "cell_type": "code",
   "execution_count": null,
   "metadata": {},
   "outputs": [],
   "source": []
  }
 ],
 "metadata": {
  "kernelspec": {
   "display_name": "Python 3",
   "language": "python",
   "name": "python3"
  },
  "language_info": {
   "codemirror_mode": {
    "name": "ipython",
    "version": 3
   },
   "file_extension": ".py",
   "mimetype": "text/x-python",
   "name": "python",
   "nbconvert_exporter": "python",
   "pygments_lexer": "ipython3",
   "version": "3.7.1"
  }
 },
 "nbformat": 4,
 "nbformat_minor": 2
}
