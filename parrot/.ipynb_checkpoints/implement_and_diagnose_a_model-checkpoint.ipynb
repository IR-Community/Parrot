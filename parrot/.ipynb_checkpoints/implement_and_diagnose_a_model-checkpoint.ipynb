{
 "cells": [
  {
   "cell_type": "code",
   "execution_count": 139,
   "metadata": {},
   "outputs": [
    {
     "name": "stdout",
     "output_type": "stream",
     "text": [
      "The autoreload extension is already loaded. To reload it, use:\n",
      "  %reload_ext autoreload\n"
     ]
    }
   ],
   "source": [
    "%load_ext autoreload\n",
    "%autoreload 2"
   ]
  },
  {
   "cell_type": "code",
   "execution_count": 140,
   "metadata": {},
   "outputs": [],
   "source": [
    "# load package parrot from local folder\n",
    "\n",
    "import os,sys\n",
    "module_path = os.path.abspath(os.path.join('/Users/tu/Desktop/trec/Parrot/venv/src'))\n",
    "sys.path.append(module_path)\n",
    "from parrot import *"
   ]
  },
  {
   "cell_type": "code",
   "execution_count": 143,
   "metadata": {},
   "outputs": [
    {
     "name": "stdout",
     "output_type": "stream",
     "text": [
      "Collection:/Users/tu/Desktop/trec/index/ap90\n",
      "total_term_freq:25556408\n",
      "num_docs:78583\n",
      "num_terms:175559\n"
     ]
    }
   ],
   "source": [
    "# load index, topics and judgements from local folders\n",
    "\n",
    "\n",
    "base = \"/Users/tu/Desktop/trec/\"\n",
    "dataset = DataSet.load(\n",
    "    base + \"/index/ap90\",\n",
    "    base + \"/topics/ap90-51-100\",\n",
    "    base + \"/qrels/ap90-51-100\",\n",
    "    True\n",
    ")\n",
    "print(dataset.collection)"
   ]
  },
  {
   "cell_type": "code",
   "execution_count": 145,
   "metadata": {},
   "outputs": [
    {
     "name": "stdout",
     "output_type": "stream",
     "text": [
      "0.24788153545871214\n",
      "0.5943011973588204\n",
      "0.4040000000000001\n"
     ]
    }
   ],
   "source": [
    "# implement and run the BM25 model\n",
    "\n",
    "class MyBM25Model(Model):\n",
    "\n",
    "    def __init__(self, b=0.75, k1=1.2):\n",
    "        self.b = b; self.k1 = k1; \n",
    "\n",
    "    def score_term(self, tf: float, tn: float, dl: float,\n",
    "                  ql: float, ctf: float, df: float, qtf: float,\n",
    "                  ctn: float, C: float, N: float):\n",
    "        b = self.b; k1 = self.k1\n",
    "        avgdl = C / N\n",
    "        idf = math.log(1 + (N - df + 0.5) / (df + 0.5))\n",
    "        tf_part = tf * (k1 + 1)\\\n",
    "                  / (tf + k1 * (1 - b + b * dl / avgdl))\n",
    "        return tf_part * idf\n",
    "\n",
    "model = MyBM25Model(b=0.4, k1=0.9)\n",
    "result_set = model.run(dataset)\n",
    "print(result_set.avg_prec())\n",
    "print(result_set.ndcg())\n",
    "print(result_set.precision_at(10))"
   ]
  },
  {
   "cell_type": "code",
   "execution_count": 146,
   "metadata": {},
   "outputs": [
    {
     "data": {
      "text/html": [
       "Avg Prec: 0.24788153545871214<table><tr><td>QueryId</td><td>Title</td><td>MAP</td></tr><tr><td>51</td><td>   Airbus Subsidies</td><td style='background:rgba(76, 175, 80, 0.769231)'>0.769231</td></tr><tr><td>52</td><td>   South African Sanctions</td><td style='background:rgba(76, 175, 80, 0.858050)'>0.858050</td></tr><tr><td>53</td><td>   Leveraged Buyouts  </td><td style='background:rgba(76, 175, 80, 0.482752)'>0.482752</td></tr><tr><td>54</td><td>   Satellite Launch Contracts</td><td style='background:rgba(76, 175, 80, 0.631110)'>0.631110</td></tr><tr><td>55</td><td>   Insider Trading</td><td style='background:rgba(76, 175, 80, 0.627532)'>0.627532</td></tr><tr><td>56</td><td>   Prime (Lending) Rate Moves, Predictions</td><td style='background:rgba(76, 175, 80, 0.335360)'>0.335360</td></tr><tr><td>57</td><td>   MCI</td><td style='background:rgba(76, 175, 80, 0.773655)'>0.773655</td></tr><tr><td>58</td><td>   Rail Strikes</td><td style='background:rgba(76, 175, 80, 0.621741)'>0.621741</td></tr><tr><td>59</td><td>   Weather Related Fatalities</td><td style='background:rgba(76, 175, 80, 0.074376)'>0.074376</td></tr><tr><td>60</td><td>   Merit-Pay vs. Seniority</td><td style='background:rgba(76, 175, 80, 0.030161)'>0.030161</td></tr><tr><td>61</td><td>   Israeli Role in Iran-Contra Affair</td><td style='background:rgba(76, 175, 80, 0.389471)'>0.389471</td></tr><tr><td>62</td><td>   Military Coups D'etat</td><td style='background:rgba(76, 175, 80, 0.532021)'>0.532021</td></tr><tr><td>63</td><td>   Machine Translation</td><td style='background:rgba(76, 175, 80, 0.250000)'>0.250000</td></tr><tr><td>64</td><td>   Hostage-Taking</td><td style='background:rgba(76, 175, 80, 0.209133)'>0.209133</td></tr><tr><td>65</td><td>   Information Retrieval Systems</td><td style='background:rgba(76, 175, 80, 0.000000)'>0.000000</td></tr><tr><td>66</td><td>   Natural Language Processing</td><td style='background:rgba(76, 175, 80, 0.000000)'>0.000000</td></tr><tr><td>67</td><td>   Politically Motivated Civil Disturbances</td><td style='background:rgba(76, 175, 80, 0.003006)'>0.003006</td></tr><tr><td>68</td><td>   Health Hazards from Fine-Diameter Fibers</td><td style='background:rgba(76, 175, 80, 0.054172)'>0.054172</td></tr><tr><td>69</td><td>   Attempts to Revive the SALT II Treaty</td><td style='background:rgba(76, 175, 80, 0.000000)'>0.000000</td></tr><tr><td>70</td><td>   Surrogate Motherhood</td><td style='background:rgba(76, 175, 80, 0.455164)'>0.455164</td></tr><tr><td>71</td><td>    Border Incursions</td><td style='background:rgba(76, 175, 80, 0.036411)'>0.036411</td></tr><tr><td>72</td><td>    Demographic Shifts in the U.S.</td><td style='background:rgba(76, 175, 80, 0.024690)'>0.024690</td></tr><tr><td>73</td><td>   Demographic Shifts across National Boundaries</td><td style='background:rgba(76, 175, 80, 0.001707)'>0.001707</td></tr><tr><td>74</td><td>   Conflicting Policy </td><td style='background:rgba(76, 175, 80, 0.001559)'>0.001559</td></tr><tr><td>75</td><td>   Automation</td><td style='background:rgba(76, 175, 80, 0.125293)'>0.125293</td></tr><tr><td>76</td><td>   U.S. Constitution - Original Intent</td><td style='background:rgba(76, 175, 80, 0.044763)'>0.044763</td></tr><tr><td>77</td><td>   Poaching</td><td style='background:rgba(76, 175, 80, 0.251900)'>0.251900</td></tr><tr><td>78</td><td>   Greenpeace</td><td style='background:rgba(76, 175, 80, 0.856771)'>0.856771</td></tr><tr><td>79</td><td>   FRG Political Party Positions</td><td style='background:rgba(76, 175, 80, 0.002625)'>0.002625</td></tr><tr><td>80</td><td>   1988 Presidential Candidates Platforms</td><td style='background:rgba(76, 175, 80, 0.029250)'>0.029250</td></tr><tr><td>81</td><td>  Financial crunch for televangelists in the wake of the PTL</td><td style='background:rgba(76, 175, 80, 0.033333)'>0.033333</td></tr><tr><td>82</td><td>   Genetic Engineering</td><td style='background:rgba(76, 175, 80, 0.650387)'>0.650387</td></tr><tr><td>83</td><td>  Measures to Protect the Atmosphere</td><td style='background:rgba(76, 175, 80, 0.044492)'>0.044492</td></tr><tr><td>84</td><td>  Alternative/renewable Energy Plant & Equipment Installation</td><td style='background:rgba(76, 175, 80, 0.071727)'>0.071727</td></tr><tr><td>85</td><td>   Official Corruption</td><td style='background:rgba(76, 175, 80, 0.193595)'>0.193595</td></tr><tr><td>86</td><td>   Bank Failures</td><td style='background:rgba(76, 175, 80, 0.086281)'>0.086281</td></tr><tr><td>87</td><td>  Criminal Actions Against Officers of Failed</td><td style='background:rgba(76, 175, 80, 0.021687)'>0.021687</td></tr><tr><td>88</td><td>  Crude Oil Price Trends</td><td style='background:rgba(76, 175, 80, 0.034268)'>0.034268</td></tr><tr><td>89</td><td>  \"Downstream\" Investments by OPEC Member States</td><td style='background:rgba(76, 175, 80, 0.000462)'>0.000462</td></tr><tr><td>90</td><td>  Data on Proven Reserves of Oil & Natural Gas</td><td style='background:rgba(76, 175, 80, 0.134745)'>0.134745</td></tr><tr><td>91</td><td>  U.S. Army Acquisition of Advanced Weapons Systems</td><td style='background:rgba(76, 175, 80, 0.006989)'>0.006989</td></tr><tr><td>92</td><td>  International Military Equipment Sales</td><td style='background:rgba(76, 175, 80, 0.023211)'>0.023211</td></tr><tr><td>93</td><td>  What Backing Does the National Rifle Association</td><td style='background:rgba(76, 175, 80, 0.267913)'>0.267913</td></tr><tr><td>94</td><td>  Computer-aided Crime</td><td style='background:rgba(76, 175, 80, 0.179075)'>0.179075</td></tr><tr><td>95</td><td>  Computer-aided Crime Detection</td><td style='background:rgba(76, 175, 80, 0.122728)'>0.122728</td></tr><tr><td>96</td><td>  Computer-Aided Medical Diagnosis</td><td style='background:rgba(76, 175, 80, 0.082174)'>0.082174</td></tr><tr><td>97</td><td>  Fiber Optics Applications</td><td style='background:rgba(76, 175, 80, 0.446838)'>0.446838</td></tr><tr><td>98</td><td>  Fiber Optics Equipment Manufacturers</td><td style='background:rgba(76, 175, 80, 0.441761)'>0.441761</td></tr><tr><td>99</td><td>   Iran-Contra Affair</td><td style='background:rgba(76, 175, 80, 0.878127)'>0.878127</td></tr><tr><td>100</td><td>  Controlling the Transfer of High Technology</td><td style='background:rgba(76, 175, 80, 0.202379)'>0.202379</td></tr></table>"
      ],
      "text/plain": [
       "<IPython.core.display.HTML object>"
      ]
     },
     "metadata": {},
     "output_type": "display_data"
    }
   ],
   "source": [
    "result_set.show_detail()"
   ]
  },
  {
   "cell_type": "code",
   "execution_count": 158,
   "metadata": {},
   "outputs": [
    {
     "data": {
      "text/html": [
       "Query:   South African Sanctions<table><tr ><td>Rank</td><td>DocId</td><td>Score</td><td>IsRel</td></tr><tr><td>0</td><td> AP900617-0008</td><td> 15.749444 </td><td style='background-color: rgba(76, 175, 80, 1)' >1</td></tr><tr><td>1</td><td> AP900208-0182</td><td> 15.742572 </td><td style='background-color: rgba(76, 175, 80, 1)' >1</td></tr><tr><td>2</td><td> AP900208-0024</td><td> 15.668648 </td><td style='background-color: rgba(76, 175, 80, 1)' >1</td></tr><tr><td>3</td><td> AP900209-0043</td><td> 15.622420 </td><td style='background-color: rgba(76, 175, 80, 1)' >1</td></tr><tr><td>4</td><td> AP900202-0186</td><td> 15.473287 </td><td style='background-color: rgba(76, 175, 80, 1)' >1</td></tr><tr><td>5</td><td> AP900619-0010</td><td> 15.420737 </td><td style='background-color: rgba(76, 175, 80, 1)' >1</td></tr><tr><td>6</td><td> AP900213-0012</td><td> 15.309219 </td><td style='background-color: rgba(76, 175, 80, 1)' >1</td></tr><tr><td>7</td><td> AP900923-0009</td><td> 15.287847 </td><td style='background-color: rgba(76, 175, 80, 1)' >1</td></tr><tr><td>8</td><td> AP900508-0052</td><td> 15.287372 </td><td style='background-color: rgba(76, 175, 80, 1)' >1</td></tr><tr><td>9</td><td> AP900221-0137</td><td> 15.268560 </td><td style='background-color: rgba(76, 175, 80, 1)' >1</td></tr></table>"
      ],
      "text/plain": [
       "<IPython.core.display.HTML object>"
      ]
     },
     "metadata": {},
     "output_type": "display_data"
    }
   ],
   "source": [
    "result_set.show_results(52, 0, 10)"
   ]
  },
  {
   "cell_type": "code",
   "execution_count": 159,
   "metadata": {},
   "outputs": [
    {
     "data": {
      "text/html": [
       "Query:&nbsp;<span style='color:white;background:#FF0000'>south</span>&nbsp;&nbsp;<span style='color:white;background:#00FF00'>african</span>&nbsp;&nbsp;<span style='color:white;background:#0000FF'>sanction</span>&nbsp;<br><br>Score:15.74944434688677<br><br><HEAD>Americans Join Anti-Apartheid Cause</HEAD><br><TEXT><br>High school students boycott Kellogg's<br>products. Mineworkers picket Shell Oil offices. A rap music group<br>cuts a song with the message ``don't buy gold jewelry'' from &nbsp;<span style='color:white;background:#FF0000'>south</span>&nbsp;<br>Africa.<br>Americans have weighed the arguments on &nbsp;<span style='color:white;background:#FF0000'>south</span>&nbsp; Africa's racially<br>separate society, and many have lodged protests, large and small,<br>against apartheid. Some march; some lobby; some talk with their<br>pocketbooks.<br>``Do Americans care about &nbsp;<span style='color:white;background:#0000FF'>sanction</span>&nbsp;s? I'd say so when you have 80<br>cities, 25 states and 15 countries that have passed binding<br>measures restricting their investments in or their purchases in<br>companies that do business in &nbsp;<span style='color:white;background:#FF0000'>south</span>&nbsp; Africa,'' says Jim Casen of the<br>American Committee On Africa, a New York-based anti-apartheid group.<br>Westchester, N.Y., recently pulled $40 million out of Citibank<br>to protest that company's rescheduling of &nbsp;<span style='color:white;background:#FF0000'>south</span>&nbsp; Africa's debt.<br>Another recent example: the state of New Jersey sold $4.2 billion<br>in securities of companies involved in &nbsp;<span style='color:white;background:#FF0000'>south</span>&nbsp; Africa.<br>By all accounts, the U.S. &nbsp;<span style='color:white;background:#0000FF'>sanction</span>&nbsp;s have taken a serious<br>economic and psychological toll on &nbsp;<span style='color:white;background:#FF0000'>south</span>&nbsp; Africa. This week, black<br>leader Nelson Mandela tours the United States with this message:<br>please keep up the economic pressure.<br>``International trade &nbsp;<span style='color:white;background:#0000FF'>sanction</span>&nbsp;s alone have probably resulted in<br>a $2 billion loss annually to the &nbsp;<span style='color:white;background:#FF0000'>south</span>&nbsp; &nbsp;<span style='color:white;background:#00FF00'>african</span>&nbsp; economy,'' said<br>Stephen R. Lewis Jr., president of Carleton College and author of<br>``The Economics of Apartheid.''<br>Although fewer than 1 percent of &nbsp;<span style='color:white;background:#FF0000'>south</span>&nbsp; &nbsp;<span style='color:white;background:#00FF00'>african</span>&nbsp;s are employed by<br>American companies in &nbsp;<span style='color:white;background:#FF0000'>south</span>&nbsp; Africa, the &nbsp;<span style='color:white;background:#0000FF'>sanction</span>&nbsp;s sent the white<br>government a signal that it ``could no longer kid itself that<br>United States would come down on its side,'' he said.<br>American blacks have played a major role behind the U.S.<br>&nbsp;<span style='color:white;background:#0000FF'>sanction</span>&nbsp;s policy. ``The black community has been a key ... and they<br>have become a firm base of the anti-apartheid movement,'' Casen<br>said.<br>Black politicians, in concert with peace groups, labor and<br>college students, have spearheaded grassroots campaigns against<br>U.S. business in &nbsp;<span style='color:white;background:#FF0000'>south</span>&nbsp; Africa.<br>Even on the eve of Mandela's visit, anti-apartheid activists<br>have maintained pressure. For instance, the Coca-Cola Co. has been<br>rebuffed in its efforts to support Mandela's eight-city tour.<br>``This company is still profiting from apartheid, and hence we<br>can't have any relationship with it,'' said Tandi-Luthuli Gcabashe,<br>coordinator of an international Coke boycott and a member of the<br>welcoming committee for Mandela in Atlanta. Coke divested its<br>bottling plants in &nbsp;<span style='color:white;background:#FF0000'>south</span>&nbsp; Africa in 1986 but still sells its<br>concentrate there.<br>The first organized efforts to use U.S. economic power against<br>&nbsp;<span style='color:white;background:#FF0000'>south</span>&nbsp; Africa date from the early 1960s after the Sharpeville<br>massacre and the jailing of &nbsp;<span style='color:white;background:#00FF00'>african</span>&nbsp; National Congress leaders,<br>including Mandela. Mandela was released in February after 27 years<br>in prison.<br>Lewis said &nbsp;<span style='color:white;background:#FF0000'>south</span>&nbsp; Africa has struck a chord with Americans where<br>other foreign policy issues have failed because apartheid is so<br>egregious and so obviously unfair.<br>Perhaps the most visible grassroots campaign against &nbsp;<span style='color:white;background:#FF0000'>south</span>&nbsp;<br>Africa was organized by Transafrica, the Washington-based Africa<br>lobby. On Thanksgiving Day 1984, the group began well-publicized<br>daily marches outside the &nbsp;<span style='color:white;background:#FF0000'>south</span>&nbsp; &nbsp;<span style='color:white;background:#00FF00'>african</span>&nbsp; Embassy in Washington,<br>often ending with the orchestrated arrest of congressmen or<br>celebrities.<br>The marches coincided with increasing violence in &nbsp;<span style='color:white;background:#FF0000'>south</span>&nbsp; Africa<br>as that country's white leaders tried to suppress uprisings in the<br>black communities. Television brought the violence into every<br>American home.<br>The anti-apartheid activists' most striking success came in<br>October 1986 when Congress passed a comprehensive &nbsp;<span style='color:white;background:#0000FF'>sanction</span>&nbsp;s bill,<br>overriding then-President Reagan's veto.<br>``They finally made an impact on the whites,'' said Pauline<br>Baker of the &nbsp;<span style='color:white;background:#0000FF'>sanction</span>&nbsp;s. ``The economy was in irreversible<br>decline,'' said Ms. Baker, a &nbsp;<span style='color:white;background:#FF0000'>south</span>&nbsp; Africa expert at the Carnegie<br>Endowment for International Peace.<br>The &nbsp;<span style='color:white;background:#0000FF'>sanction</span>&nbsp;s include a ban on the importation of &nbsp;<span style='color:white;background:#FF0000'>south</span>&nbsp; &nbsp;<span style='color:white;background:#00FF00'>african</span>&nbsp;<br>agricultural products, textiles, uranium ore, iron, steel and coal;<br>an end to new loans to &nbsp;<span style='color:white;background:#FF0000'>south</span>&nbsp; &nbsp;<span style='color:white;background:#00FF00'>african</span>&nbsp; businesses; an end to new U.S.<br>investment and a shutdown of U.S. oil exports to &nbsp;<span style='color:white;background:#FF0000'>south</span>&nbsp; Africa.<br>Additionally, the United States does not sell Pretoria military<br>equipment, computer technology and other items that might be used<br>to enforce apartheid.<br>On the eve of Mandela's visit to the United States, there have<br>been rumblings that the Bush administration might lift some<br>&nbsp;<span style='color:white;background:#0000FF'>sanction</span>&nbsp;s. But Congress imposed specific conditions for ending the<br>&nbsp;<span style='color:white;background:#0000FF'>sanction</span>&nbsp;s, not all of which have been met. For instance, all<br>democratic political activity must be legalized before &nbsp;<span style='color:white;background:#0000FF'>sanction</span>&nbsp;s<br>are removed, according to the legislation.<br>While &nbsp;<span style='color:white;background:#0000FF'>sanction</span>&nbsp;s have damaged the &nbsp;<span style='color:white;background:#FF0000'>south</span>&nbsp; &nbsp;<span style='color:white;background:#00FF00'>african</span>&nbsp; economy and<br>ultimately contributed to the relaxation of apartheid, experts say,<br>they have not been totally effective.<br>``Although the &nbsp;<span style='color:white;background:#FF0000'>south</span>&nbsp; &nbsp;<span style='color:white;background:#00FF00'>african</span>&nbsp; economy is vulnerable to further<br>&nbsp;<span style='color:white;background:#0000FF'>sanction</span>&nbsp;s, it has no realistic `Achilles' heel,'' said a recent<br>report by the Investor Responsibility Research Center, a group that<br>monitors business activity in &nbsp;<span style='color:white;background:#FF0000'>south</span>&nbsp; Africa.<br>``Only a collapse in demand for &nbsp;<span style='color:white;background:#FF0000'>south</span>&nbsp; &nbsp;<span style='color:white;background:#00FF00'>african</span>&nbsp; gold or n<br>effective oil embargo would be likely to have crippling effects,<br>and neither of these &nbsp;<span style='color:white;background:#0000FF'>sanction</span>&nbsp;s appears imminent,'' the report said.<br>&nbsp;<span style='color:white;background:#FF0000'>south</span>&nbsp; Africa's economy is fueled largely by the sale of gold and<br>other minerals, including diamonds. Gold accounts for 45 percent of<br>&nbsp;<span style='color:white;background:#FF0000'>south</span>&nbsp; Africa's export earnings.<br>&nbsp;<span style='color:white;background:#0000FF'>sanction</span>&nbsp;s against gold are relatively ineffective, a General<br>Accounting Office report said last October. It noted that millions<br>of dollars worth of &nbsp;<span style='color:white;background:#FF0000'>south</span>&nbsp; &nbsp;<span style='color:white;background:#00FF00'>african</span>&nbsp; gold and diamonds reach U.S.<br>consumers annually in the form of jewelry, which was not banned.<br>Some members of Congress have also been upset because the United<br>States has allowed about 900,000 tons of &nbsp;<span style='color:white;background:#FF0000'>south</span>&nbsp; &nbsp;<span style='color:white;background:#00FF00'>african</span>&nbsp; steel to<br>enter the country despite the anti-apartheid laws.<br>``There is no excuse for the administration to allow even one<br>ounce ... of such products to enter the United States,'' said Rep.<br>John Bryant, D-Texas. The administration allows the steel imports<br>because U.S. lawyers have differentiated between steel and<br>fabricated steel products like girders and beams.<br></TEXT>"
      ],
      "text/plain": [
       "<IPython.core.display.HTML object>"
      ]
     },
     "metadata": {},
     "output_type": "display_data"
    }
   ],
   "source": [
    "result_set.show_doc(52, 0)"
   ]
  }
 ],
 "metadata": {
  "kernelspec": {
   "display_name": "Python 3",
   "language": "python",
   "name": "python3"
  },
  "language_info": {
   "codemirror_mode": {
    "name": "ipython",
    "version": 3
   },
   "file_extension": ".py",
   "mimetype": "text/x-python",
   "name": "python",
   "nbconvert_exporter": "python",
   "pygments_lexer": "ipython3",
   "version": "3.7.1"
  }
 },
 "nbformat": 4,
 "nbformat_minor": 2
}
